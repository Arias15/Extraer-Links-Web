{
 "cells": [
  {
   "cell_type": "code",
   "execution_count": 14,
   "metadata": {},
   "outputs": [],
   "source": [
    "import urllib.request"
   ]
  },
  {
   "cell_type": "code",
   "execution_count": 15,
   "metadata": {},
   "outputs": [],
   "source": [
    "datos = urllib.request.urlopen('https://www.orce.uni.edu.pe/').read().decode()"
   ]
  },
  {
   "cell_type": "code",
   "execution_count": 10,
   "metadata": {},
   "outputs": [
    {
     "name": "stdout",
     "output_type": "stream",
     "text": [
      "Collecting bs4\n",
      "  Downloading bs4-0.0.1.tar.gz (1.1 kB)\n",
      "Collecting beautifulsoup4\n",
      "  Downloading beautifulsoup4-4.9.0-py3-none-any.whl (109 kB)\n",
      "Collecting soupsieve>1.2\n",
      "  Downloading soupsieve-2.0-py2.py3-none-any.whl (32 kB)\n",
      "Installing collected packages: soupsieve, beautifulsoup4, bs4\n",
      "    Running setup.py install for bs4: started\n",
      "    Running setup.py install for bs4: finished with status 'done'\n",
      "Successfully installed beautifulsoup4-4.9.0 bs4-0.0.1 soupsieve-2.0\n"
     ]
    }
   ],
   "source": [
    "!pip install bs4"
   ]
  },
  {
   "cell_type": "code",
   "execution_count": 16,
   "metadata": {},
   "outputs": [
    {
     "name": "stdout",
     "output_type": "stream",
     "text": [
      "http://stduni.uni.pe/modalum/\n",
      "buscaalu.php?op=buscaadeudo\n",
      "https://tutoriaspadres.uni.edu.pe/alumno/entrar\n",
      "#\n",
      "https://www.orce.uni.edu.pe/ing_Facultad.php\n",
      "pos_facultades.php\n",
      "https://www.orce.uni.edu.pe/repreestudia-prueba.php\n",
      "https://www.orce.uni.edu.pe/estadistica.php\n",
      "tigres.php\n",
      "../../especialidad.php\n",
      "http://www.alianzaestrategica.edu.pe/portal/\n",
      "../../repreestudia-prueba.php\n",
      "../../pruebaEst.php?op=2017prueba\n",
      "https://www.academico.uni.edu.pe\n",
      "https://www.orce.uni.edu.pe/intraDoc.php\n",
      "zonaintra.php\n",
      "buscaalu.php?op=buscaalu\n",
      "../calendario_lista.php\n",
      "../reglamento.php\n",
      "tramites-orce.php\n",
      "../himno.php\n",
      "bolsa-de-trabajo.php\n",
      "premio-eduardo-de-habich.php\n",
      "consultas-nacionales-internacionales.php\n",
      "https://www.academico.uni.edu.pe/alumno/entra\n",
      "https://www.orce.uni.edu.pe/intraDoc.php\n",
      "https://www.orce.uni.edu.pe/siga/login.php\n",
      "https://www.orce.uni.edu.pe/constancia-primera-matricula.php\n",
      "https://www.orce.uni.edu.pe/constancia_egresado.php\n",
      "https://www.orce.uni.edu.pe/noadeudo.php\n",
      "https://www.orce.uni.edu.pe/certificado_simple.php\n",
      "https://www.orce.uni.edu.pe/tramites-orce.php\n",
      "https://www.orce.uni.edu.pe/images/noticia/Resolucion_Rectoral.jpg\n",
      "https://www.orce.uni.edu.pe/pdf/2017/rr1477calendario-actividades-antegrado2017.pdf\n",
      "https://www.orce.uni.edu.pe/pdf/2018/rr_1411.pdf\n",
      "https://www.facebook.com/orceuni\n",
      "https://twitter.com/orce_uni\n"
     ]
    }
   ],
   "source": [
    "from bs4 import BeautifulSoup\n",
    "soup =  BeautifulSoup(datos)\n",
    "tags = soup('a')\n",
    "for tag in tags:\n",
    "    print(tag.get('href'))"
   ]
  },
  {
   "cell_type": "code",
   "execution_count": null,
   "metadata": {},
   "outputs": [],
   "source": []
  }
 ],
 "metadata": {
  "kernelspec": {
   "display_name": "Python 3",
   "language": "python",
   "name": "python3"
  },
  "language_info": {
   "codemirror_mode": {
    "name": "ipython",
    "version": 3
   },
   "file_extension": ".py",
   "mimetype": "text/x-python",
   "name": "python",
   "nbconvert_exporter": "python",
   "pygments_lexer": "ipython3",
   "version": "3.7.7"
  }
 },
 "nbformat": 4,
 "nbformat_minor": 4
}
